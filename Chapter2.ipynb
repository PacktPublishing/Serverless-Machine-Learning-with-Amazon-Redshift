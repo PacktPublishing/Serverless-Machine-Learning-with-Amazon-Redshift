{
 "cells": [
  {
   "cell_type": "markdown",
   "id": "54db0394",
   "metadata": {},
   "source": [
    "# Chapter 2 - Load data using Redshift Data API\n",
    "\n",
    "## Contents\n",
    "1. [Introduction](#Introduction)\n",
    "1. [Create Table](#Create-Table)\n",
    "1. [Load Data](#Load-Data)\n",
    "1. [Bringing all together](#Bringing-all-together)\n",
    "    1. [Prepare SQL statements](#Prepare-SQL-statements)\n",
    "    1. [Create function](#Create-function)\n",
    "---"
   ]
  },
  {
   "cell_type": "markdown",
   "id": "82ad7b13",
   "metadata": {},
   "source": [
    "# Introduction\n",
    "\n",
    "This Jupyter notebook is created to showcase data ingestion using Redshift Data API. Please follow the instructions for each given cells.\n",
    "\n"
   ]
  },
  {
   "attachments": {},
   "cell_type": "markdown",
   "id": "50bd01b3",
   "metadata": {},
   "source": [
    "### Parameters used\n",
    "\n",
    "This notebook uses below parameters which are set by running below code.   \n",
    "\n",
    "1. REDSHIFT_WORKGROUP: Redshift Serverless workgroup name.\n",
    "1. S3_DATA_FILE: Source data file name including full path of your S3 Bucket for the source data to be loaded.\n",
    "\n",
    "### Running the commands:\n",
    "* Select your cell and hit Shift+Enter or Click on Run button from menu options.</br>\n",
    "* Cell is finished running when * turns into a Number.\n",
    "* In some cells you will need to replace <' string' >  with your parameters. Please make sure you replace brackets <> as well \n"
   ]
  },
  {
   "cell_type": "code",
   "execution_count": 8,
   "id": "8cbbea54",
   "metadata": {},
   "outputs": [
    {
     "name": "stdout",
     "output_type": "stream",
     "text": [
      "Version: 1.26.32\n",
      "Note: you may need to restart the kernel to use updated packages.\n"
     ]
    }
   ],
   "source": [
    "## Check the version of your Boto3 library is greater than 1.24.xx\n",
    "pip show boto3 | grep -i version"
   ]
  },
  {
   "cell_type": "markdown",
   "id": "8322776c",
   "metadata": {},
   "source": [
    "### Import Libraries and setup parameters"
   ]
  },
  {
   "cell_type": "code",
   "execution_count": 1,
   "id": "bd9fca95",
   "metadata": {},
   "outputs": [
    {
     "name": "stdout",
     "output_type": "stream",
     "text": [
      "us-west-2\n"
     ]
    }
   ],
   "source": [
    "import boto3\n",
    "import time\n",
    "import pandas as pd\n",
    "import numpy as np\n",
    "\n",
    "session = boto3.session.Session()\n",
    "region = session.region_name\n",
    "\n",
    "\n",
    "REDSHIFT_WORKGROUP = '<replace with your serverless workgroup name>'\n",
    "S3_DATA_FILE='s3://packt-serverless-ml-redshift/chapter2/orders.parquet'\n",
    "print(region)"
   ]
  },
  {
   "cell_type": "markdown",
   "id": "e2200db2",
   "metadata": {},
   "source": [
    "## Create Table"
   ]
  },
  {
   "cell_type": "code",
   "execution_count": 2,
   "id": "ef4c82a5",
   "metadata": {},
   "outputs": [],
   "source": [
    "##Prepare create table statement\n",
    "table_ddl = \"\"\"\n",
    "DROP TABLE IF EXISTS chapter2.orders CASCADE;\n",
    "\n",
    "CREATE TABLE chapter2.orders\n",
    "(o_orderkey     bigint NOT NULL,\n",
    "o_custkey       bigint NOT NULL encode az64,\n",
    "o_orderstatus   character(1) NOT NULL encode lzo,\n",
    "o_totalprice    numeric(12,2) NOT NULL encode az64,\n",
    "o_orderdate     date NOT NULL,\n",
    "o_orderpriority character(15) NOT NULL encode lzo,\n",
    "o_clerk         character(15) NOT NULL encode lzo,\n",
    "o_shippriority  integer NOT NULL encode az64,\n",
    "o_comment       character varying(79) NOT NULL encode lzo\n",
    ") \n",
    "distkey(o_orderkey) compound sortkey(o_orderkey,o_orderdate);\"\"\"\n"
   ]
  },
  {
   "cell_type": "code",
   "execution_count": 6,
   "id": "47417da7",
   "metadata": {},
   "outputs": [
    {
     "name": "stdout",
     "output_type": "stream",
     "text": [
      "ebdddfde-74b0-41cb-acd3-c03ed144480f\n"
     ]
    }
   ],
   "source": [
    "##Connect to your Redshift Serverless and execute SQL statement table_ddl\n",
    "client = boto3.client(\"redshift-data\")\n",
    "res = client.execute_statement(Database='dev', Sql=table_ddl,\n",
    "                                   WorkgroupName=REDSHIFT_WORKGROUP)\n",
    "##Capture identifier of the SQL statement\n",
    "query_id = res[\"Id\"]\n",
    "print(query_id)"
   ]
  },
  {
   "cell_type": "code",
   "execution_count": 7,
   "id": "7cf72915",
   "metadata": {},
   "outputs": [
    {
     "name": "stdout",
     "output_type": "stream",
     "text": [
      "FINISHED\n"
     ]
    }
   ],
   "source": [
    "##Check status of the Query\n",
    "status_description = client.describe_statement(Id=query_id)\n",
    "status = status_description[\"Status\"]\n",
    "print(status)    "
   ]
  },
  {
   "cell_type": "markdown",
   "id": "142f8b3d",
   "metadata": {},
   "source": [
    "## Load Data"
   ]
  },
  {
   "cell_type": "markdown",
   "id": "56ceed82",
   "metadata": {},
   "source": [
    "##### Prepare the COPY command and be sure to print the command to check it is valid"
   ]
  },
  {
   "cell_type": "code",
   "execution_count": 8,
   "id": "5114f549",
   "metadata": {
    "scrolled": true
   },
   "outputs": [
    {
     "name": "stdout",
     "output_type": "stream",
     "text": [
      "COPY chapter2.orders \n",
      "FROM 's3://chapter2-load/orders.parquet'\n",
      "IAM_ROLE default\n",
      "FORMAT AS PARQUET;\n"
     ]
    }
   ],
   "source": [
    "load_data = f\"\"\"COPY chapter2.orders \n",
    "FROM '{S3_DATA_FILE}'\n",
    "IAM_ROLE default\n",
    "FORMAT AS PARQUET;\"\"\"\n",
    "print(load_data)"
   ]
  },
  {
   "cell_type": "code",
   "execution_count": 9,
   "id": "1a63efcb",
   "metadata": {},
   "outputs": [
    {
     "name": "stdout",
     "output_type": "stream",
     "text": [
      "4b1db31e-a956-4f58-a768-9ca3199921d7\n"
     ]
    }
   ],
   "source": [
    "## Run the COPY command and capture the statement ID\n",
    "res = client.execute_statement(Database='dev', Sql=load_data,\n",
    "                                WorkgroupName=REDSHIFT_WORKGROUP)\n",
    "query_id = res[\"Id\"]\n",
    "print(query_id)"
   ]
  },
  {
   "cell_type": "code",
   "execution_count": 10,
   "id": "9091cab6",
   "metadata": {},
   "outputs": [
    {
     "name": "stdout",
     "output_type": "stream",
     "text": [
      "FINISHED\n"
     ]
    }
   ],
   "source": [
    "##Check status of the Query\n",
    "status_description = client.describe_statement(Id=query_id)\n",
    "status = status_description[\"Status\"]\n",
    "print(status) "
   ]
  },
  {
   "attachments": {},
   "cell_type": "markdown",
   "id": "758b087b",
   "metadata": {},
   "source": [
    "##### After the above query is completed (status=FINISHED), check the record count in the data"
   ]
  },
  {
   "cell_type": "code",
   "execution_count": 11,
   "id": "5eb1ecc4",
   "metadata": {},
   "outputs": [],
   "source": [
    "cnt = client.execute_statement(Database='dev', Sql='Select count(1) from chapter2.orders;',\n",
    "                                WorkgroupName=REDSHIFT_WORKGROUP)\n",
    "query_id = cnt[\"Id\"]\n"
   ]
  },
  {
   "cell_type": "code",
   "execution_count": 12,
   "id": "9d07d58a",
   "metadata": {},
   "outputs": [
    {
     "name": "stdout",
     "output_type": "stream",
     "text": [
      "[[{'longValue': 1500000}]]\n"
     ]
    }
   ],
   "source": [
    "##Print the count query output\n",
    "results = client.get_statement_result(Id=query_id)\n",
    "print(results.get('Records'))"
   ]
  },
  {
   "cell_type": "markdown",
   "id": "259861c9",
   "metadata": {},
   "source": [
    "# Bringing all together"
   ]
  },
  {
   "cell_type": "markdown",
   "id": "f6751e42",
   "metadata": {},
   "source": [
    "### Prepare SQL statements"
   ]
  },
  {
   "cell_type": "code",
   "execution_count": 13,
   "id": "b42ed73f",
   "metadata": {},
   "outputs": [
    {
     "name": "stdout",
     "output_type": "stream",
     "text": [
      "\n",
      "DROP TABLE IF EXISTS chapter2.orders CASCADE;\n",
      "\n",
      "CREATE TABLE chapter2.orders\n",
      "(o_orderkey     bigint NOT NULL,\n",
      "o_custkey       bigint NOT NULL encode az64,\n",
      "o_orderstatus   character(1) NOT NULL encode lzo,\n",
      "o_totalprice    numeric(12,2) NOT NULL encode az64,\n",
      "o_orderdate     date NOT NULL,\n",
      "o_orderpriority character(15) NOT NULL encode lzo,\n",
      "o_clerk         character(15) NOT NULL encode lzo,\n",
      "o_shippriority  integer NOT NULL encode az64,\n",
      "o_comment       character varying(79) NOT NULL encode lzo\n",
      ") \n",
      "distkey(o_orderkey) compound sortkey(o_orderkey,o_orderdate);\n",
      "\n",
      "COPY chapter2.orders \n",
      "FROM 's3://chapter2-load/orders.parquet'\n",
      "IAM_ROLE default\n",
      "FORMAT AS PARQUET;\n",
      "\n"
     ]
    }
   ],
   "source": [
    "prep_sql = f\"\"\"\n",
    "DROP TABLE IF EXISTS chapter2.orders CASCADE;\n",
    "\n",
    "CREATE TABLE chapter2.orders\n",
    "(o_orderkey     bigint NOT NULL,\n",
    "o_custkey       bigint NOT NULL encode az64,\n",
    "o_orderstatus   character(1) NOT NULL encode lzo,\n",
    "o_totalprice    numeric(12,2) NOT NULL encode az64,\n",
    "o_orderdate     date NOT NULL,\n",
    "o_orderpriority character(15) NOT NULL encode lzo,\n",
    "o_clerk         character(15) NOT NULL encode lzo,\n",
    "o_shippriority  integer NOT NULL encode az64,\n",
    "o_comment       character varying(79) NOT NULL encode lzo\n",
    ") \n",
    "distkey(o_orderkey) compound sortkey(o_orderkey,o_orderdate);\n",
    "\n",
    "COPY chapter2.orders \n",
    "FROM '{S3_DATA_FILE}'\n",
    "IAM_ROLE default\n",
    "FORMAT AS PARQUET;\n",
    "\"\"\"\n",
    "\n",
    "print(prep_sql)"
   ]
  },
  {
   "cell_type": "markdown",
   "id": "5f2a4839",
   "metadata": {},
   "source": [
    "### Create function"
   ]
  },
  {
   "cell_type": "code",
   "execution_count": 14,
   "id": "04304e72",
   "metadata": {},
   "outputs": [],
   "source": [
    "def call_sql(prep_sql):\n",
    "    client = boto3.client(\"redshift-data\")\n",
    "    qry_resp = client.execute_statement(Database='dev', Sql=prep_sql,\n",
    "                                   WorkgroupName=REDSHIFT_WORKGROUP)\n",
    "    stmnt_id = qry_resp[\"Id\"]\n",
    "    done = False\n",
    "    while not done:\n",
    "        time.sleep(3)\n",
    "        desc_response = client.describe_statement(Id=stmnt_id)\n",
    "        status = desc_response[\"Status\"]\n",
    "        if status == \"FAILED\":\n",
    "            raise Exception('SQL query failed:' + stmnt_id + \": \" + desc_response[\"Error\"])\n",
    "        elif status == \"FINISHED\":\n",
    "            if desc_response['ResultRows']>0:\n",
    "                get_results = client.get_statement_result(Id=stmnt_id)\n",
    "                metadata=dict()\n",
    "                column_labels = []\n",
    "                for i in range(len(get_results[\"ColumnMetadata\"])): column_labels.append(get_results[\"ColumnMetadata\"][i]['label'])\n",
    "                for i in range(len(get_results[\"ColumnMetadata\"])): \n",
    "                    if (get_results[\"ColumnMetadata\"][i]['typeName'])=='varchar':\n",
    "                        typ='str'\n",
    "                    elif ((get_results[\"ColumnMetadata\"][i]['typeName'])=='int4' or (get_results[\"ColumnMetadata\"][i]['typeName'])=='numeric') :\n",
    "                        typ='float'\n",
    "                    else:\n",
    "                        typ = 'str'\n",
    "                    metadata[get_results[\"ColumnMetadata\"][i]['label']]=typ\n",
    "                 \n",
    "                \n",
    "                records = []\n",
    "                \n",
    "                for record in get_results.get('Records'):\n",
    "                    records.append([list(rec.values())[0] for rec in record])\n",
    "                df = pd.DataFrame(np.array(records), columns=column_labels)\n",
    "                df = df.astype(metadata)\n",
    "                return df\n",
    "            else:\n",
    "                return stmnt_id"
   ]
  },
  {
   "cell_type": "markdown",
   "id": "a5db9c8b",
   "metadata": {},
   "source": [
    "#### Call the function to run the SQL statements"
   ]
  },
  {
   "cell_type": "code",
   "execution_count": 15,
   "id": "7473db3e",
   "metadata": {},
   "outputs": [],
   "source": [
    "execute_statement = call_sql(prep_sql)"
   ]
  },
  {
   "cell_type": "code",
   "execution_count": 16,
   "id": "50528e95",
   "metadata": {},
   "outputs": [],
   "source": [
    "## Check the data loaded in Orders table\n",
    "get_result=\"\"\"Select * from chapter2.orders limit 10;\"\"\""
   ]
  },
  {
   "cell_type": "code",
   "execution_count": 17,
   "id": "d5142b89",
   "metadata": {},
   "outputs": [],
   "source": [
    "execute_statement = call_sql(get_result)"
   ]
  },
  {
   "cell_type": "code",
   "execution_count": 18,
   "id": "9d4f76ac",
   "metadata": {},
   "outputs": [
    {
     "data": {
      "text/html": [
       "<div>\n",
       "<style scoped>\n",
       "    .dataframe tbody tr th:only-of-type {\n",
       "        vertical-align: middle;\n",
       "    }\n",
       "\n",
       "    .dataframe tbody tr th {\n",
       "        vertical-align: top;\n",
       "    }\n",
       "\n",
       "    .dataframe thead th {\n",
       "        text-align: right;\n",
       "    }\n",
       "</style>\n",
       "<table border=\"1\" class=\"dataframe\">\n",
       "  <thead>\n",
       "    <tr style=\"text-align: right;\">\n",
       "      <th></th>\n",
       "      <th>o_orderkey</th>\n",
       "      <th>o_custkey</th>\n",
       "      <th>o_orderstatus</th>\n",
       "      <th>o_totalprice</th>\n",
       "      <th>o_orderdate</th>\n",
       "      <th>o_orderpriority</th>\n",
       "      <th>o_clerk</th>\n",
       "      <th>o_shippriority</th>\n",
       "      <th>o_comment</th>\n",
       "    </tr>\n",
       "  </thead>\n",
       "  <tbody>\n",
       "    <tr>\n",
       "      <th>0</th>\n",
       "      <td>740</td>\n",
       "      <td>43417</td>\n",
       "      <td>O</td>\n",
       "      <td>96016.31</td>\n",
       "      <td>1995-07-16</td>\n",
       "      <td>3-MEDIUM</td>\n",
       "      <td>Clerk#000000583</td>\n",
       "      <td>0.0</td>\n",
       "      <td>courts haggle furiously across the final, regul</td>\n",
       "    </tr>\n",
       "    <tr>\n",
       "      <th>1</th>\n",
       "      <td>1924</td>\n",
       "      <td>74677</td>\n",
       "      <td>O</td>\n",
       "      <td>258213.13</td>\n",
       "      <td>1996-09-07</td>\n",
       "      <td>4-NOT SPECIFIED</td>\n",
       "      <td>Clerk#000000823</td>\n",
       "      <td>0.0</td>\n",
       "      <td>of the ironic accounts. instructions near the...</td>\n",
       "    </tr>\n",
       "    <tr>\n",
       "      <th>2</th>\n",
       "      <td>2115</td>\n",
       "      <td>104101</td>\n",
       "      <td>O</td>\n",
       "      <td>160667.90</td>\n",
       "      <td>1998-05-23</td>\n",
       "      <td>4-NOT SPECIFIED</td>\n",
       "      <td>Clerk#000000101</td>\n",
       "      <td>0.0</td>\n",
       "      <td>odolites boost. carefully regular excuses cajo...</td>\n",
       "    </tr>\n",
       "    <tr>\n",
       "      <th>3</th>\n",
       "      <td>2151</td>\n",
       "      <td>57902</td>\n",
       "      <td>O</td>\n",
       "      <td>216383.85</td>\n",
       "      <td>1996-11-11</td>\n",
       "      <td>3-MEDIUM</td>\n",
       "      <td>Clerk#000000996</td>\n",
       "      <td>0.0</td>\n",
       "      <td>c requests. ironic platelets cajole across the...</td>\n",
       "    </tr>\n",
       "    <tr>\n",
       "      <th>4</th>\n",
       "      <td>2241</td>\n",
       "      <td>101276</td>\n",
       "      <td>F</td>\n",
       "      <td>241266.34</td>\n",
       "      <td>1993-05-11</td>\n",
       "      <td>1-URGENT</td>\n",
       "      <td>Clerk#000000081</td>\n",
       "      <td>0.0</td>\n",
       "      <td>y about the silent excuses. furiously ironic i...</td>\n",
       "    </tr>\n",
       "    <tr>\n",
       "      <th>5</th>\n",
       "      <td>2309</td>\n",
       "      <td>99505</td>\n",
       "      <td>O</td>\n",
       "      <td>219187.00</td>\n",
       "      <td>1995-09-04</td>\n",
       "      <td>5-LOW</td>\n",
       "      <td>Clerk#000000803</td>\n",
       "      <td>0.0</td>\n",
       "      <td>he carefully pending packages. fluffily stealt...</td>\n",
       "    </tr>\n",
       "    <tr>\n",
       "      <th>6</th>\n",
       "      <td>3234</td>\n",
       "      <td>13891</td>\n",
       "      <td>O</td>\n",
       "      <td>204288.87</td>\n",
       "      <td>1996-04-05</td>\n",
       "      <td>4-NOT SPECIFIED</td>\n",
       "      <td>Clerk#000000367</td>\n",
       "      <td>0.0</td>\n",
       "      <td>ents according to the dependencies will sleep ...</td>\n",
       "    </tr>\n",
       "    <tr>\n",
       "      <th>7</th>\n",
       "      <td>4294</td>\n",
       "      <td>48623</td>\n",
       "      <td>F</td>\n",
       "      <td>357833.85</td>\n",
       "      <td>1992-08-15</td>\n",
       "      <td>3-MEDIUM</td>\n",
       "      <td>Clerk#000000407</td>\n",
       "      <td>0.0</td>\n",
       "      <td>ng pinto beans breach. slyly express requests bo</td>\n",
       "    </tr>\n",
       "    <tr>\n",
       "      <th>8</th>\n",
       "      <td>4384</td>\n",
       "      <td>24016</td>\n",
       "      <td>F</td>\n",
       "      <td>90816.05</td>\n",
       "      <td>1992-07-13</td>\n",
       "      <td>1-URGENT</td>\n",
       "      <td>Clerk#000000192</td>\n",
       "      <td>0.0</td>\n",
       "      <td>onic platelets. furiously regular asymptotes a...</td>\n",
       "    </tr>\n",
       "    <tr>\n",
       "      <th>9</th>\n",
       "      <td>5059</td>\n",
       "      <td>41249</td>\n",
       "      <td>F</td>\n",
       "      <td>99783.76</td>\n",
       "      <td>1993-11-10</td>\n",
       "      <td>2-HIGH</td>\n",
       "      <td>Clerk#000000058</td>\n",
       "      <td>0.0</td>\n",
       "      <td>latelets. final, regular accounts cajole furio...</td>\n",
       "    </tr>\n",
       "  </tbody>\n",
       "</table>\n",
       "</div>"
      ],
      "text/plain": [
       "  o_orderkey o_custkey o_orderstatus  o_totalprice o_orderdate  \\\n",
       "0        740     43417             O      96016.31  1995-07-16   \n",
       "1       1924     74677             O     258213.13  1996-09-07   \n",
       "2       2115    104101             O     160667.90  1998-05-23   \n",
       "3       2151     57902             O     216383.85  1996-11-11   \n",
       "4       2241    101276             F     241266.34  1993-05-11   \n",
       "5       2309     99505             O     219187.00  1995-09-04   \n",
       "6       3234     13891             O     204288.87  1996-04-05   \n",
       "7       4294     48623             F     357833.85  1992-08-15   \n",
       "8       4384     24016             F      90816.05  1992-07-13   \n",
       "9       5059     41249             F      99783.76  1993-11-10   \n",
       "\n",
       "   o_orderpriority          o_clerk  o_shippriority  \\\n",
       "0  3-MEDIUM         Clerk#000000583             0.0   \n",
       "1  4-NOT SPECIFIED  Clerk#000000823             0.0   \n",
       "2  4-NOT SPECIFIED  Clerk#000000101             0.0   \n",
       "3  3-MEDIUM         Clerk#000000996             0.0   \n",
       "4  1-URGENT         Clerk#000000081             0.0   \n",
       "5  5-LOW            Clerk#000000803             0.0   \n",
       "6  4-NOT SPECIFIED  Clerk#000000367             0.0   \n",
       "7  3-MEDIUM         Clerk#000000407             0.0   \n",
       "8  1-URGENT         Clerk#000000192             0.0   \n",
       "9  2-HIGH           Clerk#000000058             0.0   \n",
       "\n",
       "                                           o_comment  \n",
       "0    courts haggle furiously across the final, regul  \n",
       "1   of the ironic accounts. instructions near the...  \n",
       "2  odolites boost. carefully regular excuses cajo...  \n",
       "3  c requests. ironic platelets cajole across the...  \n",
       "4  y about the silent excuses. furiously ironic i...  \n",
       "5  he carefully pending packages. fluffily stealt...  \n",
       "6  ents according to the dependencies will sleep ...  \n",
       "7   ng pinto beans breach. slyly express requests bo  \n",
       "8  onic platelets. furiously regular asymptotes a...  \n",
       "9  latelets. final, regular accounts cajole furio...  "
      ]
     },
     "execution_count": 18,
     "metadata": {},
     "output_type": "execute_result"
    }
   ],
   "source": [
    "execute_statement.head(10)"
   ]
  },
  {
   "cell_type": "code",
   "execution_count": null,
   "id": "615ed64c",
   "metadata": {},
   "outputs": [],
   "source": []
  }
 ],
 "metadata": {
  "kernelspec": {
   "display_name": "conda_python3",
   "language": "python",
   "name": "conda_python3"
  },
  "language_info": {
   "codemirror_mode": {
    "name": "ipython",
    "version": 3
   },
   "file_extension": ".py",
   "mimetype": "text/x-python",
   "name": "python",
   "nbconvert_exporter": "python",
   "pygments_lexer": "ipython3",
   "version": "3.8.12"
  }
 },
 "nbformat": 4,
 "nbformat_minor": 5
}
